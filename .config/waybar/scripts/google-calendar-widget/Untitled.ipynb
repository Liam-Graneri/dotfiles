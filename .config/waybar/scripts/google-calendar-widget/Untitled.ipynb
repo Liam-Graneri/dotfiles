{
 "cells": [
  {
   "cell_type": "code",
   "execution_count": 11,
   "id": "b7c19db5",
   "metadata": {},
   "outputs": [],
   "source": [
    "import pandas as pd\n",
    "import datetime\n",
    "import re"
   ]
  },
  {
   "cell_type": "code",
   "execution_count": 41,
   "id": "e0891893",
   "metadata": {
    "scrolled": false
   },
   "outputs": [
    {
     "data": {
      "text/html": [
       "<div>\n",
       "<style scoped>\n",
       "    .dataframe tbody tr th:only-of-type {\n",
       "        vertical-align: middle;\n",
       "    }\n",
       "\n",
       "    .dataframe tbody tr th {\n",
       "        vertical-align: top;\n",
       "    }\n",
       "\n",
       "    .dataframe thead th {\n",
       "        text-align: right;\n",
       "    }\n",
       "</style>\n",
       "<table border=\"1\" class=\"dataframe\">\n",
       "  <thead>\n",
       "    <tr style=\"text-align: right;\">\n",
       "      <th></th>\n",
       "      <th>calendar</th>\n",
       "      <th>summary</th>\n",
       "      <th>start</th>\n",
       "      <th>end</th>\n",
       "    </tr>\n",
       "  </thead>\n",
       "  <tbody>\n",
       "    <tr>\n",
       "      <th>0</th>\n",
       "      <td>Uni - Meeting/Misc Uni Work</td>\n",
       "      <td>Weekly Catch-Up w/ Virginie</td>\n",
       "      <td>2022-10-03T10:00:00+08:00</td>\n",
       "      <td>2022-10-03T10:30:00+08:00</td>\n",
       "    </tr>\n",
       "    <tr>\n",
       "      <th>1</th>\n",
       "      <td>Uni - Meeting/Misc Uni Work</td>\n",
       "      <td>Weekly Catch-Up w/ Virginie</td>\n",
       "      <td>2022-10-10T10:00:00+08:00</td>\n",
       "      <td>2022-10-10T10:30:00+08:00</td>\n",
       "    </tr>\n",
       "    <tr>\n",
       "      <th>2</th>\n",
       "      <td>Uni - Meeting/Misc Uni Work</td>\n",
       "      <td>Weekly Catch-Up w/ Virginie</td>\n",
       "      <td>2022-10-17T10:00:00+08:00</td>\n",
       "      <td>2022-10-17T10:30:00+08:00</td>\n",
       "    </tr>\n",
       "    <tr>\n",
       "      <th>3</th>\n",
       "      <td>Uni - Meeting/Misc Uni Work</td>\n",
       "      <td>Weekly Catch-Up w/ Virginie</td>\n",
       "      <td>2022-10-24T10:00:00+08:00</td>\n",
       "      <td>2022-10-24T10:30:00+08:00</td>\n",
       "    </tr>\n",
       "    <tr>\n",
       "      <th>4</th>\n",
       "      <td>Uni - Meeting/Misc Uni Work</td>\n",
       "      <td>Weekly Catch-Up w/ Virginie</td>\n",
       "      <td>2022-10-31T10:00:00+08:00</td>\n",
       "      <td>2022-10-31T10:30:00+08:00</td>\n",
       "    </tr>\n",
       "    <tr>\n",
       "      <th>5</th>\n",
       "      <td>liamgraneri71@gmail.com</td>\n",
       "      <td>test</td>\n",
       "      <td>2022-09-27T18:30:00+08:00</td>\n",
       "      <td>2022-09-27T19:30:00+08:00</td>\n",
       "    </tr>\n",
       "    <tr>\n",
       "      <th>6</th>\n",
       "      <td>liamgraneri71@gmail.com</td>\n",
       "      <td>test #2</td>\n",
       "      <td>2022-09-28T13:15:00+08:00</td>\n",
       "      <td>2022-09-28T14:30:00+08:00</td>\n",
       "    </tr>\n",
       "  </tbody>\n",
       "</table>\n",
       "</div>"
      ],
      "text/plain": [
       "                      calendar                      summary  \\\n",
       "0  Uni - Meeting/Misc Uni Work  Weekly Catch-Up w/ Virginie   \n",
       "1  Uni - Meeting/Misc Uni Work  Weekly Catch-Up w/ Virginie   \n",
       "2  Uni - Meeting/Misc Uni Work  Weekly Catch-Up w/ Virginie   \n",
       "3  Uni - Meeting/Misc Uni Work  Weekly Catch-Up w/ Virginie   \n",
       "4  Uni - Meeting/Misc Uni Work  Weekly Catch-Up w/ Virginie   \n",
       "5      liamgraneri71@gmail.com                         test   \n",
       "6      liamgraneri71@gmail.com                      test #2   \n",
       "\n",
       "                       start                        end  \n",
       "0  2022-10-03T10:00:00+08:00  2022-10-03T10:30:00+08:00  \n",
       "1  2022-10-10T10:00:00+08:00  2022-10-10T10:30:00+08:00  \n",
       "2  2022-10-17T10:00:00+08:00  2022-10-17T10:30:00+08:00  \n",
       "3  2022-10-24T10:00:00+08:00  2022-10-24T10:30:00+08:00  \n",
       "4  2022-10-31T10:00:00+08:00  2022-10-31T10:30:00+08:00  \n",
       "5  2022-09-27T18:30:00+08:00  2022-09-27T19:30:00+08:00  \n",
       "6  2022-09-28T13:15:00+08:00  2022-09-28T14:30:00+08:00  "
      ]
     },
     "execution_count": 41,
     "metadata": {},
     "output_type": "execute_result"
    }
   ],
   "source": [
    "df = pd.read_csv('schedule.csv')\n",
    "df = df.loc[df['summary'] != 'last_updated']\n",
    "df = df [['calendar', 'summary', 'start', 'end']]\n",
    "df"
   ]
  },
  {
   "cell_type": "code",
   "execution_count": 34,
   "id": "d9a2d99b",
   "metadata": {},
   "outputs": [
    {
     "name": "stdout",
     "output_type": "stream",
     "text": [
      "start\n",
      "   year  month  day  hour  minute  second\n",
      "0  2022     10    3    10       0       0\n",
      "1  2022     10   10    10       0       0\n",
      "2  2022     10   17    10       0       0\n",
      "end\n",
      "   year  month  day  hour  minute  second\n",
      "0  2022     10    3    10      30       0\n",
      "1  2022     10   10    10      30       0\n",
      "2  2022     10   17    10      30       0\n"
     ]
    },
    {
     "name": "stderr",
     "output_type": "stream",
     "text": [
      "/tmp/ipykernel_544111/1426313034.py:7: SettingWithCopyWarning: \n",
      "A value is trying to be set on a copy of a slice from a DataFrame.\n",
      "Try using .loc[row_indexer,col_indexer] = value instead\n",
      "\n",
      "See the caveats in the documentation: https://pandas.pydata.org/pandas-docs/stable/user_guide/indexing.html#returning-a-view-versus-a-copy\n",
      "  moment_df[time_obj] = pd.to_numeric(moment_df[moment].apply(lambda x: re.search(time_regex, x).groups()[group]))\n",
      "/tmp/ipykernel_544111/1426313034.py:7: SettingWithCopyWarning: \n",
      "A value is trying to be set on a copy of a slice from a DataFrame.\n",
      "Try using .loc[row_indexer,col_indexer] = value instead\n",
      "\n",
      "See the caveats in the documentation: https://pandas.pydata.org/pandas-docs/stable/user_guide/indexing.html#returning-a-view-versus-a-copy\n",
      "  moment_df[time_obj] = pd.to_numeric(moment_df[moment].apply(lambda x: re.search(time_regex, x).groups()[group]))\n"
     ]
    },
    {
     "data": {
      "text/html": [
       "<div>\n",
       "<style scoped>\n",
       "    .dataframe tbody tr th:only-of-type {\n",
       "        vertical-align: middle;\n",
       "    }\n",
       "\n",
       "    .dataframe tbody tr th {\n",
       "        vertical-align: top;\n",
       "    }\n",
       "\n",
       "    .dataframe thead th {\n",
       "        text-align: right;\n",
       "    }\n",
       "</style>\n",
       "<table border=\"1\" class=\"dataframe\">\n",
       "  <thead>\n",
       "    <tr style=\"text-align: right;\">\n",
       "      <th></th>\n",
       "      <th>calendar</th>\n",
       "      <th>summary</th>\n",
       "      <th>start</th>\n",
       "      <th>end</th>\n",
       "      <th>start_dt</th>\n",
       "      <th>end_dt</th>\n",
       "    </tr>\n",
       "  </thead>\n",
       "  <tbody>\n",
       "    <tr>\n",
       "      <th>0</th>\n",
       "      <td>Uni - Meeting/Misc Uni Work</td>\n",
       "      <td>Weekly Catch-Up w/ Virginie</td>\n",
       "      <td>2022-10-03T10:00:00+08:00</td>\n",
       "      <td>2022-10-03T10:30:00+08:00</td>\n",
       "      <td>2022-10-03 10:00:00</td>\n",
       "      <td>2022-10-03 10:30:00</td>\n",
       "    </tr>\n",
       "    <tr>\n",
       "      <th>1</th>\n",
       "      <td>Uni - Meeting/Misc Uni Work</td>\n",
       "      <td>Weekly Catch-Up w/ Virginie</td>\n",
       "      <td>2022-10-10T10:00:00+08:00</td>\n",
       "      <td>2022-10-10T10:30:00+08:00</td>\n",
       "      <td>2022-10-10 10:00:00</td>\n",
       "      <td>2022-10-10 10:30:00</td>\n",
       "    </tr>\n",
       "    <tr>\n",
       "      <th>2</th>\n",
       "      <td>Uni - Meeting/Misc Uni Work</td>\n",
       "      <td>Weekly Catch-Up w/ Virginie</td>\n",
       "      <td>2022-10-17T10:00:00+08:00</td>\n",
       "      <td>2022-10-17T10:30:00+08:00</td>\n",
       "      <td>2022-10-17 10:00:00</td>\n",
       "      <td>2022-10-17 10:30:00</td>\n",
       "    </tr>\n",
       "  </tbody>\n",
       "</table>\n",
       "</div>"
      ],
      "text/plain": [
       "                      calendar                      summary  \\\n",
       "0  Uni - Meeting/Misc Uni Work  Weekly Catch-Up w/ Virginie   \n",
       "1  Uni - Meeting/Misc Uni Work  Weekly Catch-Up w/ Virginie   \n",
       "2  Uni - Meeting/Misc Uni Work  Weekly Catch-Up w/ Virginie   \n",
       "\n",
       "                       start                        end            start_dt  \\\n",
       "0  2022-10-03T10:00:00+08:00  2022-10-03T10:30:00+08:00 2022-10-03 10:00:00   \n",
       "1  2022-10-10T10:00:00+08:00  2022-10-10T10:30:00+08:00 2022-10-10 10:00:00   \n",
       "2  2022-10-17T10:00:00+08:00  2022-10-17T10:30:00+08:00 2022-10-17 10:00:00   \n",
       "\n",
       "               end_dt  \n",
       "0 2022-10-03 10:30:00  \n",
       "1 2022-10-10 10:30:00  \n",
       "2 2022-10-17 10:30:00  "
      ]
     },
     "execution_count": 34,
     "metadata": {},
     "output_type": "execute_result"
    }
   ],
   "source": [
    "time_regex = '(\\d\\d\\d\\d)-(\\d\\d)-(\\d\\d)T(\\d\\d):(\\d\\d):(\\d\\d)'\n",
    "regex_groups = {0:'year', 1:'month', 2:'day', 3:'hour', 4:'minute', 5:'second'}\n",
    "\n",
    "for moment in ['start', 'end']:\n",
    "    moment_df = df[['summary', moment]]\n",
    "    for group, time_obj in regex_groups.items():\n",
    "        moment_df[time_obj] = pd.to_numeric(moment_df[moment].apply(lambda x: re.search(time_regex, x).groups()[group]))\n",
    "    moment_df = moment_df.drop(columns=(['summary', moment]))\n",
    "    print(moment)\n",
    "    print(moment_df)\n",
    "    df[f'{moment}_dt'] = pd.to_datetime(moment_df)\n",
    "\n",
    "df\n",
    "\n"
   ]
  },
  {
   "cell_type": "code",
   "execution_count": 35,
   "id": "19e04d7f",
   "metadata": {},
   "outputs": [
    {
     "name": "stdout",
     "output_type": "stream",
     "text": [
      "<class 'pandas.core.frame.DataFrame'>\n",
      "Int64Index: 3 entries, 0 to 2\n",
      "Data columns (total 6 columns):\n",
      " #   Column    Non-Null Count  Dtype         \n",
      "---  ------    --------------  -----         \n",
      " 0   calendar  3 non-null      object        \n",
      " 1   summary   3 non-null      object        \n",
      " 2   start     3 non-null      object        \n",
      " 3   end       3 non-null      object        \n",
      " 4   start_dt  3 non-null      datetime64[ns]\n",
      " 5   end_dt    3 non-null      datetime64[ns]\n",
      "dtypes: datetime64[ns](2), object(4)\n",
      "memory usage: 168.0+ bytes\n"
     ]
    }
   ],
   "source": [
    "df.info()"
   ]
  },
  {
   "cell_type": "code",
   "execution_count": null,
   "id": "4f6f4564",
   "metadata": {},
   "outputs": [],
   "source": [
    "0"
   ]
  }
 ],
 "metadata": {
  "kernelspec": {
   "display_name": "Python 3 (ipykernel)",
   "language": "python",
   "name": "python3"
  },
  "language_info": {
   "codemirror_mode": {
    "name": "ipython",
    "version": 3
   },
   "file_extension": ".py",
   "mimetype": "text/x-python",
   "name": "python",
   "nbconvert_exporter": "python",
   "pygments_lexer": "ipython3",
   "version": "3.10.7"
  }
 },
 "nbformat": 4,
 "nbformat_minor": 5
}
